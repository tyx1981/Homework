{
 "cells": [
  {
   "cell_type": "markdown",
   "metadata": {},
   "source": [
    "# Homework 4 assignments\n",
    "\n",
    "#### 1.Download and plot 3 apparently related sets of data with at least. Each set should contain at least two related variables. You should explain how variables in each set of data are related. Plot each set using the scatter plot function and the line graph function.\n",
    "\n",
    "#### 2.Create a correlation matrix plot for quarterly observations of Nominal GDP, Real GDP, the Price Level (CPI or GDP Deflator), the quantity of currency in circulation for as large of a date range as possible. Then, calculate the year-over-year percent change for each each variable and save the results as variables in the same dataframe. Create a correlation matrix for these new variables.\n",
    "\n",
    "#### 3. Download data for 1 Year, 2 Year, 5 Year, 10 Year, and 30 Year U.S. Treasuries (Constant Maturity Rates). Create a function that creates a yield for each date.\n",
    "\n",
    "#### 3.Plot all of the variables from (3) in a single time series line plot. Indicate using shaded regions any period where the 5 Year rate is less than the 1 year rate. Save this plot in the same pdf that you used in (3)."
   ]
  },
  {
   "cell_type": "code",
   "execution_count": 1,
   "metadata": {},
   "outputs": [],
   "source": [
    "# 1. First I have to save the plots functions using Spyder which is used to visual the data "
   ]
  },
  {
   "cell_type": "code",
   "execution_count": 2,
   "metadata": {},
   "outputs": [],
   "source": [
    "\n",
    "# plots.py\n",
    "# os library or module allows you to access commandline function\n",
    "import os\n",
    "import numpy as np\n",
    "import matplotlib.pyplot as plt\n",
    "import pandas as pd\n",
    "import pandas_datareader.data as web\n",
    "import datetime\n",
    "import matplotlib.transforms as mtransforms\n",
    "\n",
    "# matplotlib is all the plotting tools\n",
    "# we create a function that plots a scatter as a timeseries \n",
    "# this is one of way to visualize data\n",
    "# it is just a scatter plot and then we represent time with color \n",
    "# in the book, we represent the color as multiple variables \n",
    "\n",
    "def plot_ts_scatter(df, s = 75, figsize = (40, 20), \n",
    "                    save_fig = False, pp = None):\n",
    "\n",
    "# gather variables from dateframe \n",
    " plot_vars = list(df.keys())\n",
    " # we have our plot variables which are just the keys we are passing \n",
    " # a whole data frame or a slice of the dataframe \n",
    "\n",
    "# cycle through each variable for x value \n",
    " for x in plot_vars:\n",
    " # we cycle through the plot variables \n",
    " # cycle again for y value \n",
    "       for y in plot_vars:\n",
    "# make sure that  x does not equal y \n",
    "           if x != y:\n",
    "                fig, ax = plt.subplots(figsize = figsize)\n",
    "                # Create list of years from index\n",
    "                # Year will be represented by color\n",
    "                # years are the color value \n",
    "                # we are going to draw the years from the index, but we can \n",
    "                # just create a year value in the dateframe to say if you are not \n",
    "                # in the data, not in the keys \n",
    "                \n",
    "                # Var3 also called Z means year \n",
    "                # replace in python using Control R \n",
    "                \n",
    "                # this is to check if we have made a column called year \n",
    "                if \"Year\" not in df.keys():\n",
    "                    # create list from index\n",
    "                    # convert each index value to string \n",
    "                    # only include first 4 characters, which is the year \n",
    "# this says we create data for the year and draw that data from a list \n",
    "# the list is composed of elemments from the index,so create the lists from index \n",
    "# the lists also include time, turn that index data into a string \n",
    "# from that string, we take the first 4 chacters which is the year \n",
    "# create an integer from those chacters, in another word, convert it back to \n",
    "# a numeric, the reason why we have to do becuase index is a special format \n",
    "\n",
    "# this is the most complicated part of this section is getting the year \n",
    "# to format correctly \n",
    "\n",
    "# if we have not made a column called year, we have to make a column \n",
    "# if we did, we can skip \n",
    "                    df[\"Year\"] = [int(str(ind)[:4]) for ind in df.index] \n",
    "\n",
    "                df.plot.scatter(x = x, y = y, s = s, ax = ax, \n",
    "                                c = \"Year\", cmap = \"viridis\")\n",
    "                \n",
    "                # Turn the text on the x-axis so that it reads vertically\n",
    "                # we do not want them to be horizontal and rotate them 90 degrees \n",
    "                ax.tick_params(axis='x', rotation=90)\n",
    "                # Get rid of tick lines perpendicular to the axis for aesthetic\n",
    "# this says on both x and y both make the length as 0 and the line disappear \n",
    "                ax.tick_params('both', length=0, which='both')\n",
    "                # save image if PdfPages object was passed\n",
    "                if save_fig:\n",
    "                    # try to create a new folder \n",
    "                    try:\n",
    "                        os.mkdir(\"plots\")\n",
    "                        # if it does not exist, we just move on \n",
    "                    except:\n",
    "                        pass\n",
    "                    # save the figure in the folder \n",
    "                    # identify directory to save fiture \n",
    "                    \n",
    "                    directory = \"plots/\" + x[:12] + \" \" + y[:12] + \" c=Year\"\n",
    "                    plot.savefig()\n",
    "                    plt.savefig(directory + \".png\")\n",
    "# we save the figure in a PDF\n",
    "# this says you pass the pdf which means pp here, if it does not equal none\n",
    "# if you pass someting do it and then save the figure in the PDF \n",
    "# it says if you pass the pdf file which is pp here and if it does not equal to none \n",
    "# if you pass something and then save the figure in the pdf \n",
    "# the reason why save as a pdf instead of png is that it holds all of the files \n",
    "# if want to view different files, it is just a matter of pressing left or right \n",
    "# and then we can view the change over time, this is nice way to navigate and understand the data \n",
    "# when we relate to the reaserch, before we do the regression, plot the data first to show the correlation \n",
    "                    if pp != None: pp.savefig(fig, bbox_inches = \"tight\")"
   ]
  },
  {
   "cell_type": "code",
   "execution_count": 3,
   "metadata": {},
   "outputs": [],
   "source": [
    "# download data from FRED using pandas_datareader\n",
    "# this part of code is saved as Fred.py using Spyder \n",
    "# this Fred and Plots both are saved under the folder Datalib "
   ]
  },
  {
   "cell_type": "code",
   "execution_count": 4,
   "metadata": {},
   "outputs": [],
   "source": [
    "# Fred data introduction \n",
    "# Federal Reserve Economic Data (FRED) is a database maintained by the Research division of the Federal Reserve Bank of St. Louis \n",
    "# we can use this source to download, graph, and track 766,000 US and international time series from 101 sources."
   ]
  },
  {
   "cell_type": "code",
   "execution_count": 5,
   "metadata": {},
   "outputs": [],
   "source": [
    "#FRED.py\n",
    "import pandas as pd\n",
    "import pandas_datareader.data as web\n",
    "import datetime\n",
    "\n",
    "def gather_data(data_codes, start, \n",
    "                end = datetime.datetime.today(),freq = \"A\"):\n",
    "    # check if new column is first column of data\n",
    "    # if true, then create a new dataframe\n",
    "    i = 0\n",
    "    for key, code in data_codes.items():\n",
    "        if i == 0:\n",
    "            df = web.DataReader(code, \"fred\", start, end).resample(freq).mean()\n",
    "            # rename column so that code is replaced by the key (variable name)\n",
    "            df.rename(columns = {code:key}, inplace = True) \n",
    "            i = None\n",
    "        else:\n",
    "            # if DataFrame exists, add new column\n",
    "            df[key] = web.DataReader(code, \"fred\", start, end).resample(freq).mean()\n",
    "            \n",
    "    return df\n",
    "# if not, add to existing dataframe"
   ]
  },
  {
   "cell_type": "code",
   "execution_count": 6,
   "metadata": {},
   "outputs": [],
   "source": [
    "# Next is to pick the data we would download "
   ]
  },
  {
   "cell_type": "code",
   "execution_count": 7,
   "metadata": {},
   "outputs": [
    {
     "ename": "SyntaxError",
     "evalue": "EOL while scanning string literal (plots.py, line 120)",
     "output_type": "error",
     "traceback": [
      "Traceback \u001b[1;36m(most recent call last)\u001b[0m:\n",
      "  File \u001b[0;32m\"C:\\Users\\Shane\\anaconda3\\lib\\site-packages\\IPython\\core\\interactiveshell.py\"\u001b[0m, line \u001b[0;32m3343\u001b[0m, in \u001b[0;35mrun_code\u001b[0m\n    exec(code_obj, self.user_global_ns, self.user_ns)\n",
      "\u001b[1;36m  File \u001b[1;32m\"<ipython-input-7-bc6c6c23e696>\"\u001b[1;36m, line \u001b[1;32m3\u001b[1;36m, in \u001b[1;35m<module>\u001b[1;36m\u001b[0m\n\u001b[1;33m    from datlib.plots import *\u001b[0m\n",
      "\u001b[1;36m  File \u001b[1;32m\"C:\\Users\\Shane\\Homework Projects\\datlib\\plots.py\"\u001b[1;36m, line \u001b[1;32m120\u001b[0m\n\u001b[1;33m    if pp != None: pp.savefig(fig, bbox_inches = \"tigh)\u001b[0m\n\u001b[1;37m                                                       ^\u001b[0m\n\u001b[1;31mSyntaxError\u001b[0m\u001b[1;31m:\u001b[0m EOL while scanning string literal\n"
     ]
    }
   ],
   "source": [
    "#fedProject.py\n",
    "#from datlib.stats import *\n",
    "from datlib.plots import *\n",
    "from datlib.FRED import *\n",
    "# the key is the column name and the val is about to set \n",
    "data_codes  = {\"Producer Price Index by Commodity: Farm Products: Slaughter Hogs\": \"WPS0132\",\n",
    "               \"Producer Price Index by Commodity: Farm Products, Processed Foods and Feeds\": \"APU0000703112\",\n",
    "               \"Producer Price Index by Commodity: Farm Products: Soybeans\":\"WPU01830131\" }\n",
    "# Select start and end dates\n",
    "start = datetime.datetime(1950, 7, 1)\n",
    "end = datetime.datetime.today()\n",
    "\n",
    "# freq refers to data frequency. Choose \"D\", \"W\", \"M\", \"Q\", \"A\"\n",
    "# a number may also be place in front of a letter. \"2D\" indicates alternating days\n",
    "data = gather_data(data_codes = data_codes, start = start, end = end, freq = \"M\")\n",
    "plt.rcParams.update({\"font.size\":10})\n",
    "data.plot.line()"
   ]
  },
  {
   "cell_type": "code",
   "execution_count": null,
   "metadata": {},
   "outputs": [],
   "source": []
  },
  {
   "cell_type": "code",
   "execution_count": null,
   "metadata": {},
   "outputs": [],
   "source": [
    "data"
   ]
  },
  {
   "cell_type": "code",
   "execution_count": null,
   "metadata": {},
   "outputs": [],
   "source": [
    "plt.rcParams.update({\"font.size\":32})\n",
    "plot_ts_scatter(data)"
   ]
  },
  {
   "cell_type": "markdown",
   "metadata": {},
   "source": [
    "#### 2.Create a correlation matrix plot for quarterly observations of Nominal GDP, Real GDP, the Price Level (CPI or GDP Deflator), the quantity of currency in circulation for as large of a date range as possible. Then, calculate the year-over-year percent change for each variable and save the results as variables in the same dataframe. Create a correlation matrix for these new variables.¶"
   ]
  },
  {
   "cell_type": "markdown",
   "metadata": {},
   "source": [
    "#### Differences Between the GDP Deflator and CPI\n",
    "#### The first is that GDP Deflator includes only domestic goods and not anything that is imported.  This is different because the CPI includes anything bought by consumers including foreign goods.  The second difference is that the GDP Deflator is a measure of the prices of all goods and services while the CPI is a measure of only goods bought by consumers. "
   ]
  },
  {
   "cell_type": "code",
   "execution_count": null,
   "metadata": {},
   "outputs": [],
   "source": [
    "# gather data\n",
    "GDP_codes = {\"Gross Domestic Product\": \"GDP\",\n",
    "             \"Real Gross Domestic Product\": \"GDPC1\",\n",
    "             \"Gross Domestic Product: Implicit Price Deflator\": \"GDP Deflator\",\n",
    "             \"Currency in Circulation\": \"CURRCIR\"}\n",
    "\n",
    "start = datetime.datetime(1980,1, 1)\n",
    "end = datetime.datetime.today()\n",
    "\n",
    "GDP_Data = gather_data(GDP_codes,\n",
    "                  start = start,\n",
    "                  end = end,\n",
    "                  freq = \"Q\").dropna()\n",
    "\n",
    "GDP_Data"
   ]
  },
  {
   "cell_type": "code",
   "execution_count": null,
   "metadata": {},
   "outputs": [],
   "source": [
    "#### Caculate the year-over-year percent change for each variable and save the results as variables in the same dataframe. "
   ]
  },
  {
   "cell_type": "code",
   "execution_count": null,
   "metadata": {},
   "outputs": [],
   "source": []
  }
 ],
 "metadata": {
  "kernelspec": {
   "display_name": "Python 3",
   "language": "python",
   "name": "python3"
  },
  "language_info": {
   "codemirror_mode": {
    "name": "ipython",
    "version": 3
   },
   "file_extension": ".py",
   "mimetype": "text/x-python",
   "name": "python",
   "nbconvert_exporter": "python",
   "pygments_lexer": "ipython3",
   "version": "3.8.3"
  }
 },
 "nbformat": 4,
 "nbformat_minor": 4
}
