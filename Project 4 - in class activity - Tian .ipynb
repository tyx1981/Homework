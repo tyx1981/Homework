{
 "cells": [
  {
   "cell_type": "markdown",
   "metadata": {},
   "source": [
    "# Project 4: Visualizing Monetary Policy\n",
    "\n",
    "## Goals:\n",
    "\n",
    "1. Create functions in separate py files. Save those files in a folder and import the files and their functions from the folder.\n",
    "2. Download data from FRED. This includes aligning units so all data uses the same measures (i.e., billions or millions of dollars\n",
    "3. Visualize the data using line graphs and stacked plots"
   ]
  },
  {
   "cell_type": "code",
   "execution_count": 1,
   "metadata": {},
   "outputs": [],
   "source": [
    "# In this lecture, we will review the [Federal Reserve's balance sheet](https://fred.stlouisfed.org/release/tables?rid=20&eid=1194154&od=#) \n",
    "# and review Fed activity in the overnight lending market, creating functions for visualizing relevant data in the process. \n",
    "# We will  create a *plots.py* file class that will include some of the visualization functions from chapters 5 and 6, as well as some new visualizations that we will create in this lesson.\n",
    "# Let's get started by reconstructing the scatter plot function from  chapter 6. For this project, we will represent the time period with color.\n",
    "# Make sure to save plot functions and functions to download data from FRED in separate files using *Spyder*. \n",
    "# Save them in a folder named *datlib*. \n",
    "# This folder must be in the same directory as this notebook. \n",
    "# We will import that folder (package). \n",
    "# The name of the appropriate file is included in the first line "
   ]
  },
  {
   "cell_type": "code",
   "execution_count": 2,
   "metadata": {},
   "outputs": [],
   "source": [
    "#plots.py\n",
    "\n",
    "# os module allows you to access commandline functions\n",
    "# from python\n",
    "import os\n",
    "import pandas as pd\n",
    "# math and data library\n",
    "import numpy as np\n",
    "import matplotlib.pyplot as plt\n",
    "\n",
    "def plot_ts_scatter(df, s = 75, figsize = (40,20),\n",
    "                    save_fig = False, pp = None):\n",
    "    # gather variables from df\n",
    "    plot_vars = list(df.keys())\n",
    "    for x in plot_vars:\n",
    "        for y in plot_vars:\n",
    "            if x != y:\n",
    "                fig, ax = plt.subplots(figsize = figsize)\n",
    "                # Create list of years from index\n",
    "                # Years will be represented by color\n",
    "                # Years will be the c value\n",
    "                if \"Year\" not in df.keys():\n",
    "                    # create list from index\n",
    "                    # convert each index value to string\n",
    "                    # only include first 4 characters, which is the year\n",
    "                    # create an integer from those charcters\n",
    "                    df[\"Year\"] =[int(str(ind)[:4]) for ind in df.index]\n",
    "                \n",
    "                df.plot.scatter(x = x, y = y, s = s, ax=ax,\n",
    "                                c = \"Year\", cmap = \"viridis\")\n",
    "               \n",
    "                # Turn the text on the x-axis so that it reads vertically\n",
    "                ax.tick_params(axis = \"x\", rotation=90)\n",
    "                # get rid of tick lines\n",
    "                ax.tick_params(\"both\", length = 0, which=\"both\")\n",
    "                if save_fig:\n",
    "                    try:\n",
    "                        os.mkdir(\"plots\")\n",
    "                    except:\n",
    "                        pass\n",
    "                    # identify directory to save figure\n",
    "                    directory = \"plots/\" + x[:12] + \" \" + y[:12] + \" c=Year\"\n",
    "                    plt.savefig(directory.replace(\":\", \"-\") + \".png\")\n",
    "                if pp != None: pp.savefig(fig, bbox_inches = \"tight\")\n"
   ]
  },
  {
   "cell_type": "code",
   "execution_count": 3,
   "metadata": {},
   "outputs": [],
   "source": [
    "# Now that we have saved these classes in *.py* files, we will import these files as to plot data from the [Federal Reserve](https://research.stlouisfed.org/). \n",
    "# First, let's create a script name *FRED.py* that imports data from FRED using *pandas*."
   ]
  },
  {
   "cell_type": "code",
   "execution_count": 4,
   "metadata": {},
   "outputs": [],
   "source": [
    "#FRED.py\n",
    "import pandas as pd\n",
    "import pandas_datareader.data as web\n",
    "import datetime\n",
    "\n",
    "#### define a web spider to collect data\n",
    "#### input: datacodes, start time, end time, freq is set to \"A\" if not passed\n",
    "#### output: a pandas dataFrame\n",
    "def gather_data(data_codes, start, \n",
    "                end = datetime.datetime.today(), freq = \"A\"):\n",
    "    i = 0\n",
    "    # dct.items() calls key and value that key points to\n",
    "    for key, val in data_codes.items():\n",
    "        if i == 0:\n",
    "            # Create dataframe for first variable, then rename column\n",
    "            df = web.DataReader(val, \"fred\", start, end).resample(freq).mean()\n",
    "            df.rename(columns = {val:key}, inplace = True) \n",
    "            # setting i to None will cause the next block of code to execute,\n",
    "            # placing data within df instead of creating a new dataframe for\n",
    "            # each variable\n",
    "            i = None\n",
    "        else:\n",
    "            # If dataframe already exists, add new column\n",
    "            df[key] = web.DataReader(val, \"fred\", start, end).resample(freq).mean()\n",
    "\n",
    "    return df"
   ]
  },
  {
   "cell_type": "code",
   "execution_count": 5,
   "metadata": {},
   "outputs": [],
   "source": [
    "# We have now saved all of the classes that will be included in the *datlib* package. \n",
    "# Import the *datlib* and use the FRED module to download data from FRED. Let's start by gathering data reflecting the monetary base and currency in circulation.\n"
   ]
  },
  {
   "cell_type": "code",
   "execution_count": 6,
   "metadata": {},
   "outputs": [
    {
     "ename": "SyntaxError",
     "evalue": "EOL while scanning string literal (plots.py, line 120)",
     "output_type": "error",
     "traceback": [
      "Traceback \u001b[1;36m(most recent call last)\u001b[0m:\n",
      "  File \u001b[0;32m\"C:\\Users\\Shane\\anaconda3\\lib\\site-packages\\IPython\\core\\interactiveshell.py\"\u001b[0m, line \u001b[0;32m3343\u001b[0m, in \u001b[0;35mrun_code\u001b[0m\n    exec(code_obj, self.user_global_ns, self.user_ns)\n",
      "\u001b[1;36m  File \u001b[1;32m\"<ipython-input-6-cca00e4dae75>\"\u001b[1;36m, line \u001b[1;32m2\u001b[1;36m, in \u001b[1;35m<module>\u001b[1;36m\u001b[0m\n\u001b[1;33m    from datlib.plots import *\u001b[0m\n",
      "\u001b[1;36m  File \u001b[1;32m\"C:\\Users\\Shane\\Inclass Projects\\project 4\\datlib\\plots.py\"\u001b[1;36m, line \u001b[1;32m120\u001b[0m\n\u001b[1;33m    if pp != None: pp.savefig(fig, bbox_inches = \"tigh)\u001b[0m\n\u001b[1;37m                                                       ^\u001b[0m\n\u001b[1;31mSyntaxError\u001b[0m\u001b[1;31m:\u001b[0m EOL while scanning string literal\n"
     ]
    }
   ],
   "source": [
    "#fedProject.py\n",
    "from datlib.plots import *\n",
    "from datlib.FRED import *\n",
    "# vars in millions of dollars\n",
    "data_codes = {\"Base: Total\":\"BOGMBASEW\",\n",
    "             \"Base: Currency in Circulation\":\"MBCURRCIRW\"}\n",
    "start = datetime.datetime(1950, 7, 1)\n",
    "end = datetime.datetime.today()\n",
    "data = gather_data(data_codes = data_codes, \n",
    "                   start = start,\n",
    "                  end = end,\n",
    "                  freq = \"W\")\n",
    "plt.rcParams.update({\"font.size\":10})\n",
    "data.plot.line()"
   ]
  },
  {
   "cell_type": "code",
   "execution_count": null,
   "metadata": {},
   "outputs": [],
   "source": []
  }
 ],
 "metadata": {
  "kernelspec": {
   "display_name": "Python 3",
   "language": "python",
   "name": "python3"
  },
  "language_info": {
   "codemirror_mode": {
    "name": "ipython",
    "version": 3
   },
   "file_extension": ".py",
   "mimetype": "text/x-python",
   "name": "python",
   "nbconvert_exporter": "python",
   "pygments_lexer": "ipython3",
   "version": "3.8.3"
  }
 },
 "nbformat": 4,
 "nbformat_minor": 4
}
